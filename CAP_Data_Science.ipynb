{
  "nbformat": 4,
  "nbformat_minor": 0,
  "metadata": {
    "colab": {
      "name": "CAP Data Science.ipynb",
      "version": "0.3.2",
      "provenance": [],
      "include_colab_link": true
    },
    "kernelspec": {
      "name": "python3",
      "display_name": "Python 3"
    }
  },
  "cells": [
    {
      "cell_type": "markdown",
      "metadata": {
        "id": "view-in-github",
        "colab_type": "text"
      },
      "source": [
        "<a href=\"https://colab.research.google.com/github/das2002/Remote-Sensing-Beaverworks/blob/master/CAP_Data_Science.ipynb\" target=\"_parent\"><img src=\"https://colab.research.google.com/assets/colab-badge.svg\" alt=\"Open In Colab\"/></a>"
      ]
    },
    {
      "cell_type": "code",
      "metadata": {
        "id": "9BEyEyrcNFcM",
        "colab_type": "code",
        "outputId": "5c6e5ca5-1043-442a-8d4d-7d870942f944",
        "colab": {
          "base_uri": "https://localhost:8080/",
          "height": 302
        }
      },
      "source": [
        "import io\n",
        "import pandas\n",
        "data = pandas.read_csv('17-Jul-2019-T_CAPmeta.csv')\n",
        "data.plot(x='LON_deg', y= 'LAT_deg', kind = 'scatter', style = 'x' )"
      ],
      "execution_count": 0,
      "outputs": [
        {
          "output_type": "execute_result",
          "data": {
            "text/plain": [
              "<matplotlib.axes._subplots.AxesSubplot at 0x7f2f781e89b0>"
            ]
          },
          "metadata": {
            "tags": []
          },
          "execution_count": 7
        },
        {
          "output_type": "display_data",
          "data": {
            "image/png": "[encoded data removed]",
            "text/plain": [
              "<Figure size 432x288 with 1 Axes>"
            ]
          },
          "metadata": {
            "tags": []
          }
        }
      ]
    },
    {
      "cell_type": "code",
      "metadata": {
        "id": "Usij78wvQP-1",
        "colab_type": "code",
        "outputId": "7b2225fd-b37a-4173-f416-7c2993705b2c",
        "colab": {
          "base_uri": "https://localhost:8080/",
          "height": 35
        }
      },
      "source": [
        "data.groupby('MONTH').count().idxmax()['FILENAME']\n"
      ],
      "execution_count": 0,
      "outputs": [
        {
          "output_type": "execute_result",
          "data": {
            "text/plain": [
              "9"
            ]
          },
          "metadata": {
            "tags": []
          },
          "execution_count": 28
        }
      ]
    },
    {
      "cell_type": "code",
      "metadata": {
        "id": "-gjbiFqXVmi5",
        "colab_type": "code",
        "outputId": "76a3b5da-da1e-43df-a819-f09407d61201",
        "colab": {
          "base_uri": "https://localhost:8080/",
          "height": 35
        }
      },
      "source": [
        "data.groupby('STATEFP').count().idxmax()['FILENAME']"
      ],
      "execution_count": 0,
      "outputs": [
        {
          "output_type": "execute_result",
          "data": {
            "text/plain": [
              "48"
            ]
          },
          "metadata": {
            "tags": []
          },
          "execution_count": 97
        }
      ]
    },
    {
      "cell_type": "code",
      "metadata": {
        "id": "euIrllaEYRmR",
        "colab_type": "code",
        "outputId": "cde1460b-d714-4b67-d4d8-c409c64ecc72",
        "colab": {
          "base_uri": "https://localhost:8080/",
          "height": 302
        }
      },
      "source": [
        "data.query('STATEFP==48').plot(x='LON_deg', y= 'LAT_deg', kind = 'scatter', style = 'x' )"
      ],
      "execution_count": 0,
      "outputs": [
        {
          "output_type": "execute_result",
          "data": {
            "text/plain": [
              "<matplotlib.axes._subplots.AxesSubplot at 0x7f2f4e6f3908>"
            ]
          },
          "metadata": {
            "tags": []
          },
          "execution_count": 99
        },
        {
          "output_type": "display_data",
          "data": {
            "image/png": "[encoded data removed]",
            "text/plain": [
              "<Figure size 432x288 with 1 Axes>"
            ]
          },
          "metadata": {
            "tags": []
          }
        }
      ]
    },
    {
      "cell_type": "code",
      "metadata": {
        "id": "wehOSX4-pB8Q",
        "colab_type": "code",
        "outputId": "b1407478-43fe-4009-a0e4-8d1f56175231",
        "colab": {
          "base_uri": "https://localhost:8080/",
          "height": 302
        }
      },
      "source": [
        "data.query('STATEFP==6').plot(x='LON_deg', y= 'LAT_deg', kind = 'scatter', style = 'x' )"
      ],
      "execution_count": 0,
      "outputs": [
        {
          "output_type": "execute_result",
          "data": {
            "text/plain": [
              "<matplotlib.axes._subplots.AxesSubplot at 0x7f2f4e6591d0>"
            ]
          },
          "metadata": {
            "tags": []
          },
          "execution_count": 100
        },
        {
          "output_type": "display_data",
          "data": {
            "image/png": "[encoded data removed]",
            "text/plain": [
              "<Figure size 432x288 with 1 Axes>"
            ]
          },
          "metadata": {
            "tags": []
          }
        }
      ]
    },
    {
      "cell_type": "code",
      "metadata": {
        "id": "Dj5I9J0XdWM_",
        "colab_type": "code",
        "outputId": "894d7984-42b2-4271-f321-7fa6277c6b40",
        "colab": {
          "base_uri": "https://localhost:8080/",
          "height": 302
        }
      },
      "source": [
        "texas_2015 = data.query('STATEFP==48 & YEAR==2015')\n",
        "\n",
        "texas_2015.plot(x='LON_deg', y= 'LAT_deg', kind = 'scatter', style = 'x' )\n",
        "#texas_2015_coords = texas_2015.loc[384:392]\n",
        "#texas_2015_coords_x = texas_2015_coords['LON_deg']\n",
        "#print(type(texas_2015_coords_x))\n",
        "#texas_2015_coords_y = texas_2015_coords['LAT_deg']\n",
        "#print(texas_2015_coords_y)\n",
        "#list_texas_2015_coords_x = []\n",
        "#counter = 0\n",
        "#while counter < len(texas_2015_coords_x):\n",
        " # tuple_coord = (texas_2015_coords_x[counter], texas_2015_coords_y[counter])\n",
        "  #list_texas_2015_coords_x.append(tuple_coord)\n",
        "  #counter+=1\n",
        "  \n",
        "#print(list_texas_2015_coords_x)\n",
        "  \n",
        "#texas_2015_coords.plot(x='LON_deg', y= 'LAT_deg', kind = 'scatter', style = 'x' )\n"
      ],
      "execution_count": 0,
      "outputs": [
        {
          "output_type": "execute_result",
          "data": {
            "text/plain": [
              "<matplotlib.axes._subplots.AxesSubplot at 0x7f2f4e813390>"
            ]
          },
          "metadata": {
            "tags": []
          },
          "execution_count": 96
        },
        {
          "output_type": "display_data",
          "data": {
            "image/png": "[encoded data removed]",
            "text/plain": [
              "<Figure size 432x288 with 1 Axes>"
            ]
          },
          "metadata": {
            "tags": []
          }
        }
      ]
    },
    {
      "cell_type": "code",
      "metadata": {
        "id": "egbeRwm2oVoo",
        "colab_type": "code",
        "colab": {}
      },
      "source": [
        "point_coords = zip(building_centers['geometry'].x, building_centers['geometry'].y)\n",
        "point_coords = np.array([[x,y] for x,y in point_coords])"
      ],
      "execution_count": 0,
      "outputs": []
    },
    {
      "cell_type": "code",
      "metadata": {
        "id": "F7vtQDORdvcf",
        "colab_type": "code",
        "colab": {}
      },
      "source": [
        "from sklearn.cluster import KMeans, DBSCAN, AgglomerativeClustering, OPTICS\n",
        "from sklearn.datasets import make_blobs\n",
        "import networkx as nx\n",
        "try:\n",
        "  import osmnx as ox\n",
        "except:\n",
        "  # osmnx depends on the system package libspatialindex\n",
        "  !apt install libspatialindex-dev\n",
        "  !pip install osmnx\n",
        "  import osmnx as ox\n",
        "\n",
        "try: \n",
        "  import geopandas as gpd\n",
        "except: \n",
        "  !pip install geopandas \n",
        "  import geopandas as gpd\n",
        "  \n",
        "try:\n",
        "  import contextily as ctx \n",
        "except:\n",
        "  # install dependencies for contextily\n",
        "  !apt install libproj-dev proj-data proj-bin\n",
        "  !apt install libgeos-dev\n",
        "  !pip install cython\n",
        "  !pip install cartopy\n",
        "  # install contextily\n",
        "  !pip install contextily==1.0rc1 --no-use-pep517 --no-cache-dir\n",
        "  import contextily as ctx\n",
        "  \n",
        "import fiona\n",
        "from shapely.geometry import Point, LineString, Polygon\n",
        "from matplotlib import pyplot as plt\n",
        "import pandas as pd\n",
        "import numpy as np\n",
        "\n",
        "# Coordinates of the Texas main campus in Decimal Degrees\n",
        "coordinates_longx_2015 = \n",
        "\n",
        "# Create a Shapely polygon from the coordinate-tuple list\n",
        "poly = Polygon(coordinates)\n",
        "\n",
        "# convert to meters (UTM) from latlong\n",
        "poly_m, poly_crs_m = ox.project_geometry(poly)\n",
        "print(poly_crs_m)\n",
        "\n",
        "# put a buffer of 1 mile (1609.34 m) to get everything w/in 1 mile\n",
        "poly_with_buffer_m = poly_m.buffer(1609.34)\n",
        "# get the bounding box\n",
        "poly_with_buffer_m = poly_with_buffer_m.envelope\n",
        "\n",
        "# convert back to lat-long\n",
        "poly_with_buffer_ll, poly_crs_ll = ox.project_geometry(poly_with_buffer_m, \n",
        "                                                        crs=poly_crs_m, \n",
        "                                                        to_crs=fiona.crs.from_epsg(4326), \n",
        "                                                        to_latlong=True)\n",
        "\n",
        "# get all walkable roads within poly\n",
        "walkable_roads_near_mit = ox.graph_from_polygon(poly_with_buffer_ll, \n",
        "                                       network_type='walk',\n",
        "                                       clean_periphery=True)\n",
        "\n",
        "# we can get the footprints of objects within this poly\n",
        "building_footprints = ox.footprints_from_polygon(poly_with_buffer_ll, \n",
        "                                                 footprint_type='building')\n",
        "\n",
        "# drop rows where there's no shape info\n",
        "building_footprints = building_footprints.loc[~building_footprints['geometry'].isna()]\n",
        "\n",
        "# project to UTM\n",
        "building_footprints_proj = ox.project_gdf(building_footprints)\n",
        "\n"
      ],
      "execution_count": 0,
      "outputs": []
    }
  ]
}